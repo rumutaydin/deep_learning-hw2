{
  "cells": [
    {
      "cell_type": "markdown",
      "source": [
        "# Animal Image Classification\n",
        "\n",
        "In this homework assignment, you will develop and refine a neural network model for classifying animal images from a provided dataset containing four classes: \"bear\", \"elephant\", \"leopard\", and \"zebra\". The dataset (animal-dataset.zip) is available on MS Teams under the path General/Class Materials/datasets. The primary goal is to improve upon a baseline model through experimentation with different architectures, hyperparameters, and techniques like transfer learning, data augmentation, and regularization.\n",
        "\n",
        "## Baseline Model\n",
        "\n",
        "Select a neural network architecture and a set of hyperparameters to train the network. Split the dataset and train the network from scratch on your training set. Briefly explain the reasons of the important decisions. Refer to the resulting model as \"baseline model.\"\n",
        "\n",
        "## Controlled Experiments\n",
        "\n",
        "Apply changes that can potentially improve the baseline model to obtain several candidate models each of which differs from the baseline model by a single modification, for example:\n",
        "\n",
        "- Transfer learning rather than training from scratch (mandatory)\n",
        "- Using a different architecture\n",
        "- Data augmentation\n",
        "- Regularization\n",
        "- Different hyperparameters\n",
        "- Any other modification\n",
        "\n",
        "Make sure that you perform \"controlled experiments.\" Clearly specify what is changed in each candidate model and why you think this change might improve the performance. Train them for the same number of epochs, and compare all the results by plotting their training and validation losses with respect to epochs. You can smooth the curves if needed. Share your findings and comments.\n",
        "\n",
        "## Proposed Models\n",
        "\n",
        "Propose one or more new models by observing the previous results. You can, for example, combine multiple changes together (e.g. a combination of transfer learning and data augmentation if you observe that both of these improve the performance). Train these models, plot the results including old and new models, perform a final evaluation with the best performing model if you think this is necessary, and briefly share your conclusions as a list of facts and comments.\n",
        "\n",
        "## Repeatability\n",
        "\n",
        "In your homework ensure repeatability of your results by implementing the following practices:\n",
        "\n",
        "- **Setting Random Seeds:** Initialize random number generator seeds for ALL randomness modules directly or indirectly used (e.g. `random`, `tensorflow.random` etc.) to ensure reproducibility of random processes.\n",
        "\n",
        "- **Environment Reproducibility:** At the beginning of your code specify the versions of dependencies (e.g., TensorFlow) used in your environment. This ensures that the same environment can be recreated to reproduce the results.\n",
        "\n",
        "- **Deterministic Processes:** Avoid using processes whose results rely on external factors such as operating system or computation power. For example, ensure deterministic file listing (e.g., use `sorted(os.listdir())` instead of `os.listdir())` and fixed number of epochs rather than using a predetermined time budget such as 1 hour for training.\n",
        "\n",
        "## Rules\n",
        "\n",
        "You are expected to use TensorFlow-Keras library and submit a single Jupyter Notebook. Please note that performing transfer learning in at least one of the candidate models is mandatory. There are many TF-Keras transfer learning examples online. You can examine them. There must be sufficient amount of individual work in the solution: Selection of models, selection of layers for transfer learning, data augmentation options, selection of hyperparameters, regularization options etc. must differ from the available solutions. Groupwork is NOT allowed. You will prepare and submit homeworks individually.\n",
        "\n",
        "For making the homework evaluation easier, please make sure the submitted notebook includes separate sections for different tasks and displays all the outputs without the need for running the code!\n",
        "\n",
        "For inquiries you can contact Ersin Çine.\n",
        "\n"
      ],
      "metadata": {
        "id": "iGJKKTTli4V-"
      },
      "id": "iGJKKTTli4V-"
    }
  ],
  "metadata": {
    "accelerator": "GPU",
    "colab": {
      "provenance": [],
      "gpuType": "T4"
    },
    "kernelspec": {
      "display_name": "Python 3",
      "name": "python3"
    },
    "language_info": {
      "codemirror_mode": {
        "name": "ipython",
        "version": 3
      },
      "file_extension": ".py",
      "mimetype": "text/x-python",
      "name": "python",
      "nbconvert_exporter": "python",
      "pygments_lexer": "ipython3",
      "version": "3.8.10"
    }
  },
  "nbformat": 4,
  "nbformat_minor": 5
}